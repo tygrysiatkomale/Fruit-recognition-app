{
 "cells": [
  {
   "cell_type": "code",
   "execution_count": 2,
   "metadata": {
    "id": "OYWHc_iZpkIt",
    "colab": {
     "base_uri": "https://localhost:8080/"
    },
    "executionInfo": {
     "status": "ok",
     "timestamp": 1742922433851,
     "user_tz": -60,
     "elapsed": 8,
     "user": {
      "displayName": "Kuba Świerczyński",
      "userId": "13786110420290537325"
     }
    },
    "outputId": "5c8ab05c-b860-4298-898c-79fc4e9b9916"
   },
   "outputs": [
    {
     "output_type": "stream",
     "name": "stdout",
     "text": [
      "Wersja TensorFlow: 2.18.0\n",
      "Dostępne urządzenia GPU: [PhysicalDevice(name='/physical_device:GPU:0', device_type='GPU')]\n"
     ]
    }
   ],
   "source": [
    "import tensorflow as tf\n",
    "import numpy as np\n",
    "import matplotlib.pyplot as plt\n",
    "import seaborn as sns\n",
    "import os\n",
    "import shutil\n",
    "import random\n",
    "import re\n",
    "from tensorflow.keras.preprocessing.image import ImageDataGenerator\n",
    "from tensorflow.keras.models import Sequential\n",
    "from tensorflow.keras.layers import Conv2D, MaxPooling2D, Flatten, Dense, Dropout, Input\n",
    "from sklearn.metrics import confusion_matrix, classification_report, accuracy_score, roc_auc_score\n",
    "from sklearn.preprocessing import label_binarize\n",
    "\n",
    "\n",
    "print(\"Wersja TensorFlow:\", tf.__version__)\n",
    "print(\"Dostępne urządzenia GPU:\", tf.config.list_physical_devices('GPU'))"
   ]
  },
  {
   "cell_type": "code",
   "execution_count": 3,
   "metadata": {
    "id": "AdWU-s8K_Fjm",
    "executionInfo": {
     "status": "ok",
     "timestamp": 1742922440537,
     "user_tz": -60,
     "elapsed": 4,
     "user": {
      "displayName": "Kuba Świerczyński",
      "userId": "13786110420290537325"
     }
    }
   },
   "outputs": [],
   "source": [
    "# train_dir = \"drive/MyDrive/content/fruits-360_original-size/fruits-360-original-size/Training\"\n",
    "# test_dir = \"drive/MyDrive/content/fruits-360_original-size/fruits-360-original-size/Test\"\n",
    "# valid_dir = \"drive/MyDrive/content/fruits-360_original-size/fruits-360-original-size/Validation\"\n",
    "\n",
    "train_dir = \"drive/MyDrive/content/fruits_generalization_test/train\"\n",
    "test_dir = \"drive/MyDrive/content/fruits_generalization_test/test\"\n",
    "valid_dir = \"drive/MyDrive/content/fruits_generalization_test/val\""
   ]
  },
  {
   "cell_type": "code",
   "execution_count": 4,
   "metadata": {
    "id": "_RV0MssfDz7I",
    "executionInfo": {
     "status": "ok",
     "timestamp": 1742922442105,
     "user_tz": -60,
     "elapsed": 6,
     "user": {
      "displayName": "Kuba Świerczyński",
      "userId": "13786110420290537325"
     }
    }
   },
   "outputs": [],
   "source": [
    "train_datagen = ImageDataGenerator(\n",
    "    rescale = 1./255,\n",
    "    rotation_range = 20,\n",
    "    width_shift_range = 0.2,\n",
    "    height_shift_range = 0.2,\n",
    "    shear_range = 0.2,\n",
    "    zoom_range = 0.2,\n",
    "    horizontal_flip = True,\n",
    "    fill_mode = \"nearest\"\n",
    ")\n",
    "\n",
    "valid_datagen = ImageDataGenerator(rescale=1./255)\n",
    "test_datagen = ImageDataGenerator(rescale=1./255)"
   ]
  },
  {
   "cell_type": "code",
   "execution_count": 5,
   "metadata": {
    "colab": {
     "base_uri": "https://localhost:8080/"
    },
    "executionInfo": {
     "elapsed": 119,
     "status": "ok",
     "timestamp": 1742922444676,
     "user": {
      "displayName": "Kuba Świerczyński",
      "userId": "13786110420290537325"
     },
     "user_tz": -60
    },
    "id": "IBtMFbxoO-nH",
    "outputId": "c4db6a3d-8c3b-4954-863e-04e177e03d61"
   },
   "outputs": [
    {
     "output_type": "stream",
     "name": "stdout",
     "text": [
      "Found 2435 images belonging to 16 classes.\n",
      "Found 839 images belonging to 16 classes.\n",
      "Found 630 images belonging to 16 classes.\n"
     ]
    }
   ],
   "source": [
    "train_generator = train_datagen.flow_from_directory(\n",
    "    directory = train_dir,\n",
    "    target_size = (100, 100),\n",
    "    batch_size = 32,\n",
    "    class_mode = \"categorical\"\n",
    ")\n",
    "\n",
    "valid_generator = valid_datagen.flow_from_directory(\n",
    "    directory = valid_dir,\n",
    "    target_size = (100, 100),\n",
    "    batch_size = 32,\n",
    "    class_mode = 'categorical'\n",
    ")\n",
    "\n",
    "test_generator = test_datagen.flow_from_directory(\n",
    "    directory = test_dir,\n",
    "    target_size = (100, 100),\n",
    "    batch_size = 32,\n",
    "    class_mode = 'categorical',\n",
    "    shuffle = False\n",
    ")"
   ]
  },
  {
   "cell_type": "code",
   "execution_count": 6,
   "metadata": {
    "id": "NZZD0CNzR_Bz",
    "executionInfo": {
     "status": "ok",
     "timestamp": 1742922447942,
     "user_tz": -60,
     "elapsed": 1048,
     "user": {
      "displayName": "Kuba Świerczyński",
      "userId": "13786110420290537325"
     }
    }
   },
   "outputs": [],
   "source": [
    "model = Sequential([\n",
    "    Input(shape=(100,100,3)),\n",
    "    Conv2D(32, (3,3), activation='relu'),\n",
    "    MaxPooling2D((2,2)),\n",
    "\n",
    "    Conv2D(64, (3,3), activation='relu'),\n",
    "    MaxPooling2D((2,2)),\n",
    "\n",
    "    Conv2D(128, (3,3), activation='relu'),\n",
    "    MaxPooling2D((2,2)),\n",
    "\n",
    "    Flatten(),\n",
    "    Dense(128, activation='relu'),\n",
    "    Dropout(0.5),\n",
    "    Dense(train_generator.num_classes, activation='softmax')\n",
    "])"
   ]
  },
  {
   "cell_type": "code",
   "execution_count": 7,
   "metadata": {
    "colab": {
     "base_uri": "https://localhost:8080/",
     "height": 476
    },
    "executionInfo": {
     "elapsed": 161,
     "status": "ok",
     "timestamp": 1742922450113,
     "user": {
      "displayName": "Kuba Świerczyński",
      "userId": "13786110420290537325"
     },
     "user_tz": -60
    },
    "id": "tjwHItxdILn4",
    "outputId": "5ab0ec51-caa0-4fc9-e4a1-4708990158dd"
   },
   "outputs": [
    {
     "output_type": "display_data",
     "data": {
      "text/plain": [
       "\u001B[1mModel: \"sequential\"\u001B[0m\n"
      ],
      "text/html": [
       "<pre style=\"white-space:pre;overflow-x:auto;line-height:normal;font-family:Menlo,'DejaVu Sans Mono',consolas,'Courier New',monospace\"><span style=\"font-weight: bold\">Model: \"sequential\"</span>\n",
       "</pre>\n"
      ]
     },
     "metadata": {}
    },
    {
     "output_type": "display_data",
     "data": {
      "text/plain": [
       "┏━━━━━━━━━━━━━━━━━━━━━━━━━━━━━━━━━━━━━━┳━━━━━━━━━━━━━━━━━━━━━━━━━━━━━┳━━━━━━━━━━━━━━━━━┓\n",
       "┃\u001B[1m \u001B[0m\u001B[1mLayer (type)                        \u001B[0m\u001B[1m \u001B[0m┃\u001B[1m \u001B[0m\u001B[1mOutput Shape               \u001B[0m\u001B[1m \u001B[0m┃\u001B[1m \u001B[0m\u001B[1m        Param #\u001B[0m\u001B[1m \u001B[0m┃\n",
       "┡━━━━━━━━━━━━━━━━━━━━━━━━━━━━━━━━━━━━━━╇━━━━━━━━━━━━━━━━━━━━━━━━━━━━━╇━━━━━━━━━━━━━━━━━┩\n",
       "│ conv2d (\u001B[38;5;33mConv2D\u001B[0m)                      │ (\u001B[38;5;45mNone\u001B[0m, \u001B[38;5;34m98\u001B[0m, \u001B[38;5;34m98\u001B[0m, \u001B[38;5;34m32\u001B[0m)          │             \u001B[38;5;34m896\u001B[0m │\n",
       "├──────────────────────────────────────┼─────────────────────────────┼─────────────────┤\n",
       "│ max_pooling2d (\u001B[38;5;33mMaxPooling2D\u001B[0m)         │ (\u001B[38;5;45mNone\u001B[0m, \u001B[38;5;34m49\u001B[0m, \u001B[38;5;34m49\u001B[0m, \u001B[38;5;34m32\u001B[0m)          │               \u001B[38;5;34m0\u001B[0m │\n",
       "├──────────────────────────────────────┼─────────────────────────────┼─────────────────┤\n",
       "│ conv2d_1 (\u001B[38;5;33mConv2D\u001B[0m)                    │ (\u001B[38;5;45mNone\u001B[0m, \u001B[38;5;34m47\u001B[0m, \u001B[38;5;34m47\u001B[0m, \u001B[38;5;34m64\u001B[0m)          │          \u001B[38;5;34m18,496\u001B[0m │\n",
       "├──────────────────────────────────────┼─────────────────────────────┼─────────────────┤\n",
       "│ max_pooling2d_1 (\u001B[38;5;33mMaxPooling2D\u001B[0m)       │ (\u001B[38;5;45mNone\u001B[0m, \u001B[38;5;34m23\u001B[0m, \u001B[38;5;34m23\u001B[0m, \u001B[38;5;34m64\u001B[0m)          │               \u001B[38;5;34m0\u001B[0m │\n",
       "├──────────────────────────────────────┼─────────────────────────────┼─────────────────┤\n",
       "│ conv2d_2 (\u001B[38;5;33mConv2D\u001B[0m)                    │ (\u001B[38;5;45mNone\u001B[0m, \u001B[38;5;34m21\u001B[0m, \u001B[38;5;34m21\u001B[0m, \u001B[38;5;34m128\u001B[0m)         │          \u001B[38;5;34m73,856\u001B[0m │\n",
       "├──────────────────────────────────────┼─────────────────────────────┼─────────────────┤\n",
       "│ max_pooling2d_2 (\u001B[38;5;33mMaxPooling2D\u001B[0m)       │ (\u001B[38;5;45mNone\u001B[0m, \u001B[38;5;34m10\u001B[0m, \u001B[38;5;34m10\u001B[0m, \u001B[38;5;34m128\u001B[0m)         │               \u001B[38;5;34m0\u001B[0m │\n",
       "├──────────────────────────────────────┼─────────────────────────────┼─────────────────┤\n",
       "│ flatten (\u001B[38;5;33mFlatten\u001B[0m)                    │ (\u001B[38;5;45mNone\u001B[0m, \u001B[38;5;34m12800\u001B[0m)               │               \u001B[38;5;34m0\u001B[0m │\n",
       "├──────────────────────────────────────┼─────────────────────────────┼─────────────────┤\n",
       "│ dense (\u001B[38;5;33mDense\u001B[0m)                        │ (\u001B[38;5;45mNone\u001B[0m, \u001B[38;5;34m128\u001B[0m)                 │       \u001B[38;5;34m1,638,528\u001B[0m │\n",
       "├──────────────────────────────────────┼─────────────────────────────┼─────────────────┤\n",
       "│ dropout (\u001B[38;5;33mDropout\u001B[0m)                    │ (\u001B[38;5;45mNone\u001B[0m, \u001B[38;5;34m128\u001B[0m)                 │               \u001B[38;5;34m0\u001B[0m │\n",
       "├──────────────────────────────────────┼─────────────────────────────┼─────────────────┤\n",
       "│ dense_1 (\u001B[38;5;33mDense\u001B[0m)                      │ (\u001B[38;5;45mNone\u001B[0m, \u001B[38;5;34m16\u001B[0m)                  │           \u001B[38;5;34m2,064\u001B[0m │\n",
       "└──────────────────────────────────────┴─────────────────────────────┴─────────────────┘\n"
      ],
      "text/html": [
       "<pre style=\"white-space:pre;overflow-x:auto;line-height:normal;font-family:Menlo,'DejaVu Sans Mono',consolas,'Courier New',monospace\">┏━━━━━━━━━━━━━━━━━━━━━━━━━━━━━━━━━━━━━━┳━━━━━━━━━━━━━━━━━━━━━━━━━━━━━┳━━━━━━━━━━━━━━━━━┓\n",
       "┃<span style=\"font-weight: bold\"> Layer (type)                         </span>┃<span style=\"font-weight: bold\"> Output Shape                </span>┃<span style=\"font-weight: bold\">         Param # </span>┃\n",
       "┡━━━━━━━━━━━━━━━━━━━━━━━━━━━━━━━━━━━━━━╇━━━━━━━━━━━━━━━━━━━━━━━━━━━━━╇━━━━━━━━━━━━━━━━━┩\n",
       "│ conv2d (<span style=\"color: #0087ff; text-decoration-color: #0087ff\">Conv2D</span>)                      │ (<span style=\"color: #00d7ff; text-decoration-color: #00d7ff\">None</span>, <span style=\"color: #00af00; text-decoration-color: #00af00\">98</span>, <span style=\"color: #00af00; text-decoration-color: #00af00\">98</span>, <span style=\"color: #00af00; text-decoration-color: #00af00\">32</span>)          │             <span style=\"color: #00af00; text-decoration-color: #00af00\">896</span> │\n",
       "├──────────────────────────────────────┼─────────────────────────────┼─────────────────┤\n",
       "│ max_pooling2d (<span style=\"color: #0087ff; text-decoration-color: #0087ff\">MaxPooling2D</span>)         │ (<span style=\"color: #00d7ff; text-decoration-color: #00d7ff\">None</span>, <span style=\"color: #00af00; text-decoration-color: #00af00\">49</span>, <span style=\"color: #00af00; text-decoration-color: #00af00\">49</span>, <span style=\"color: #00af00; text-decoration-color: #00af00\">32</span>)          │               <span style=\"color: #00af00; text-decoration-color: #00af00\">0</span> │\n",
       "├──────────────────────────────────────┼─────────────────────────────┼─────────────────┤\n",
       "│ conv2d_1 (<span style=\"color: #0087ff; text-decoration-color: #0087ff\">Conv2D</span>)                    │ (<span style=\"color: #00d7ff; text-decoration-color: #00d7ff\">None</span>, <span style=\"color: #00af00; text-decoration-color: #00af00\">47</span>, <span style=\"color: #00af00; text-decoration-color: #00af00\">47</span>, <span style=\"color: #00af00; text-decoration-color: #00af00\">64</span>)          │          <span style=\"color: #00af00; text-decoration-color: #00af00\">18,496</span> │\n",
       "├──────────────────────────────────────┼─────────────────────────────┼─────────────────┤\n",
       "│ max_pooling2d_1 (<span style=\"color: #0087ff; text-decoration-color: #0087ff\">MaxPooling2D</span>)       │ (<span style=\"color: #00d7ff; text-decoration-color: #00d7ff\">None</span>, <span style=\"color: #00af00; text-decoration-color: #00af00\">23</span>, <span style=\"color: #00af00; text-decoration-color: #00af00\">23</span>, <span style=\"color: #00af00; text-decoration-color: #00af00\">64</span>)          │               <span style=\"color: #00af00; text-decoration-color: #00af00\">0</span> │\n",
       "├──────────────────────────────────────┼─────────────────────────────┼─────────────────┤\n",
       "│ conv2d_2 (<span style=\"color: #0087ff; text-decoration-color: #0087ff\">Conv2D</span>)                    │ (<span style=\"color: #00d7ff; text-decoration-color: #00d7ff\">None</span>, <span style=\"color: #00af00; text-decoration-color: #00af00\">21</span>, <span style=\"color: #00af00; text-decoration-color: #00af00\">21</span>, <span style=\"color: #00af00; text-decoration-color: #00af00\">128</span>)         │          <span style=\"color: #00af00; text-decoration-color: #00af00\">73,856</span> │\n",
       "├──────────────────────────────────────┼─────────────────────────────┼─────────────────┤\n",
       "│ max_pooling2d_2 (<span style=\"color: #0087ff; text-decoration-color: #0087ff\">MaxPooling2D</span>)       │ (<span style=\"color: #00d7ff; text-decoration-color: #00d7ff\">None</span>, <span style=\"color: #00af00; text-decoration-color: #00af00\">10</span>, <span style=\"color: #00af00; text-decoration-color: #00af00\">10</span>, <span style=\"color: #00af00; text-decoration-color: #00af00\">128</span>)         │               <span style=\"color: #00af00; text-decoration-color: #00af00\">0</span> │\n",
       "├──────────────────────────────────────┼─────────────────────────────┼─────────────────┤\n",
       "│ flatten (<span style=\"color: #0087ff; text-decoration-color: #0087ff\">Flatten</span>)                    │ (<span style=\"color: #00d7ff; text-decoration-color: #00d7ff\">None</span>, <span style=\"color: #00af00; text-decoration-color: #00af00\">12800</span>)               │               <span style=\"color: #00af00; text-decoration-color: #00af00\">0</span> │\n",
       "├──────────────────────────────────────┼─────────────────────────────┼─────────────────┤\n",
       "│ dense (<span style=\"color: #0087ff; text-decoration-color: #0087ff\">Dense</span>)                        │ (<span style=\"color: #00d7ff; text-decoration-color: #00d7ff\">None</span>, <span style=\"color: #00af00; text-decoration-color: #00af00\">128</span>)                 │       <span style=\"color: #00af00; text-decoration-color: #00af00\">1,638,528</span> │\n",
       "├──────────────────────────────────────┼─────────────────────────────┼─────────────────┤\n",
       "│ dropout (<span style=\"color: #0087ff; text-decoration-color: #0087ff\">Dropout</span>)                    │ (<span style=\"color: #00d7ff; text-decoration-color: #00d7ff\">None</span>, <span style=\"color: #00af00; text-decoration-color: #00af00\">128</span>)                 │               <span style=\"color: #00af00; text-decoration-color: #00af00\">0</span> │\n",
       "├──────────────────────────────────────┼─────────────────────────────┼─────────────────┤\n",
       "│ dense_1 (<span style=\"color: #0087ff; text-decoration-color: #0087ff\">Dense</span>)                      │ (<span style=\"color: #00d7ff; text-decoration-color: #00d7ff\">None</span>, <span style=\"color: #00af00; text-decoration-color: #00af00\">16</span>)                  │           <span style=\"color: #00af00; text-decoration-color: #00af00\">2,064</span> │\n",
       "└──────────────────────────────────────┴─────────────────────────────┴─────────────────┘\n",
       "</pre>\n"
      ]
     },
     "metadata": {}
    },
    {
     "output_type": "display_data",
     "data": {
      "text/plain": [
       "\u001B[1m Total params: \u001B[0m\u001B[38;5;34m1,733,840\u001B[0m (6.61 MB)\n"
      ],
      "text/html": [
       "<pre style=\"white-space:pre;overflow-x:auto;line-height:normal;font-family:Menlo,'DejaVu Sans Mono',consolas,'Courier New',monospace\"><span style=\"font-weight: bold\"> Total params: </span><span style=\"color: #00af00; text-decoration-color: #00af00\">1,733,840</span> (6.61 MB)\n",
       "</pre>\n"
      ]
     },
     "metadata": {}
    },
    {
     "output_type": "display_data",
     "data": {
      "text/plain": [
       "\u001B[1m Trainable params: \u001B[0m\u001B[38;5;34m1,733,840\u001B[0m (6.61 MB)\n"
      ],
      "text/html": [
       "<pre style=\"white-space:pre;overflow-x:auto;line-height:normal;font-family:Menlo,'DejaVu Sans Mono',consolas,'Courier New',monospace\"><span style=\"font-weight: bold\"> Trainable params: </span><span style=\"color: #00af00; text-decoration-color: #00af00\">1,733,840</span> (6.61 MB)\n",
       "</pre>\n"
      ]
     },
     "metadata": {}
    },
    {
     "output_type": "display_data",
     "data": {
      "text/plain": [
       "\u001B[1m Non-trainable params: \u001B[0m\u001B[38;5;34m0\u001B[0m (0.00 B)\n"
      ],
      "text/html": [
       "<pre style=\"white-space:pre;overflow-x:auto;line-height:normal;font-family:Menlo,'DejaVu Sans Mono',consolas,'Courier New',monospace\"><span style=\"font-weight: bold\"> Non-trainable params: </span><span style=\"color: #00af00; text-decoration-color: #00af00\">0</span> (0.00 B)\n",
       "</pre>\n"
      ]
     },
     "metadata": {}
    }
   ],
   "source": [
    "model.compile(\n",
    "    loss='categorical_crossentropy',\n",
    "    optimizer='adam',\n",
    "    metrics=['accuracy']\n",
    ")\n",
    "model.summary()"
   ]
  },
  {
   "cell_type": "markdown",
   "source": [
    "#Trenowanie modelu"
   ],
   "metadata": {
    "id": "V0a-PdOvtENq"
   }
  },
  {
   "cell_type": "code",
   "execution_count": 8,
   "metadata": {
    "colab": {
     "base_uri": "https://localhost:8080/"
    },
    "id": "g056_ASiNUrZ",
    "outputId": "aebf9fd4-417f-4dfa-c561-42158f1130ad",
    "executionInfo": {
     "status": "ok",
     "timestamp": 1742923823469,
     "user_tz": -60,
     "elapsed": 1371027,
     "user": {
      "displayName": "Kuba Świerczyński",
      "userId": "13786110420290537325"
     }
    }
   },
   "outputs": [
    {
     "output_type": "stream",
     "name": "stderr",
     "text": [
      "/usr/local/lib/python3.11/dist-packages/keras/src/trainers/data_adapters/py_dataset_adapter.py:121: UserWarning: Your `PyDataset` class should call `super().__init__(**kwargs)` in its constructor. `**kwargs` can include `workers`, `use_multiprocessing`, `max_queue_size`. Do not pass these arguments to `fit()`, as they will be ignored.\n",
      "  self._warn_if_super_not_called()\n"
     ]
    },
    {
     "output_type": "stream",
     "name": "stdout",
     "text": [
      "Epoch 1/10\n",
      "\u001B[1m77/77\u001B[0m \u001B[32m━━━━━━━━━━━━━━━━━━━━\u001B[0m\u001B[37m\u001B[0m \u001B[1m1164s\u001B[0m 15s/step - accuracy: 0.2102 - loss: 2.4266 - val_accuracy: 0.5864 - val_loss: 1.2862\n",
      "Epoch 2/10\n",
      "\u001B[1m77/77\u001B[0m \u001B[32m━━━━━━━━━━━━━━━━━━━━\u001B[0m\u001B[37m\u001B[0m \u001B[1m22s\u001B[0m 283ms/step - accuracy: 0.4670 - loss: 1.4840 - val_accuracy: 0.8284 - val_loss: 0.5922\n",
      "Epoch 3/10\n",
      "\u001B[1m77/77\u001B[0m \u001B[32m━━━━━━━━━━━━━━━━━━━━\u001B[0m\u001B[37m\u001B[0m \u001B[1m20s\u001B[0m 263ms/step - accuracy: 0.6319 - loss: 1.0080 - val_accuracy: 0.7211 - val_loss: 0.7971\n",
      "Epoch 4/10\n",
      "\u001B[1m77/77\u001B[0m \u001B[32m━━━━━━━━━━━━━━━━━━━━\u001B[0m\u001B[37m\u001B[0m \u001B[1m21s\u001B[0m 274ms/step - accuracy: 0.6927 - loss: 0.8596 - val_accuracy: 0.8570 - val_loss: 0.4117\n",
      "Epoch 5/10\n",
      "\u001B[1m77/77\u001B[0m \u001B[32m━━━━━━━━━━━━━━━━━━━━\u001B[0m\u001B[37m\u001B[0m \u001B[1m20s\u001B[0m 264ms/step - accuracy: 0.7646 - loss: 0.6469 - val_accuracy: 0.9213 - val_loss: 0.2611\n",
      "Epoch 6/10\n",
      "\u001B[1m77/77\u001B[0m \u001B[32m━━━━━━━━━━━━━━━━━━━━\u001B[0m\u001B[37m\u001B[0m \u001B[1m21s\u001B[0m 273ms/step - accuracy: 0.7629 - loss: 0.6354 - val_accuracy: 0.8391 - val_loss: 0.3948\n",
      "Epoch 7/10\n",
      "\u001B[1m77/77\u001B[0m \u001B[32m━━━━━━━━━━━━━━━━━━━━\u001B[0m\u001B[37m\u001B[0m \u001B[1m20s\u001B[0m 263ms/step - accuracy: 0.7896 - loss: 0.6054 - val_accuracy: 0.9547 - val_loss: 0.2022\n",
      "Epoch 8/10\n",
      "\u001B[1m77/77\u001B[0m \u001B[32m━━━━━━━━━━━━━━━━━━━━\u001B[0m\u001B[37m\u001B[0m \u001B[1m21s\u001B[0m 266ms/step - accuracy: 0.8131 - loss: 0.5056 - val_accuracy: 0.9333 - val_loss: 0.2067\n",
      "Epoch 9/10\n",
      "\u001B[1m77/77\u001B[0m \u001B[32m━━━━━━━━━━━━━━━━━━━━\u001B[0m\u001B[37m\u001B[0m \u001B[1m20s\u001B[0m 261ms/step - accuracy: 0.8573 - loss: 0.4020 - val_accuracy: 0.9201 - val_loss: 0.1839\n",
      "Epoch 10/10\n",
      "\u001B[1m77/77\u001B[0m \u001B[32m━━━━━━━━━━━━━━━━━━━━\u001B[0m\u001B[37m\u001B[0m \u001B[1m20s\u001B[0m 265ms/step - accuracy: 0.8443 - loss: 0.4276 - val_accuracy: 0.9321 - val_loss: 0.1563\n"
     ]
    }
   ],
   "source": [
    "epochs = 10\n",
    "history = model.fit(\n",
    "    train_generator,\n",
    "    validation_data = valid_generator,\n",
    "    epochs = epochs\n",
    ")"
   ]
  },
  {
   "cell_type": "markdown",
   "source": [
    "#Test modelu"
   ],
   "metadata": {
    "id": "hwBC6zbutH7V"
   }
  },
  {
   "cell_type": "code",
   "execution_count": 9,
   "metadata": {
    "colab": {
     "base_uri": "https://localhost:8080/"
    },
    "executionInfo": {
     "elapsed": 296624,
     "status": "ok",
     "timestamp": 1742924202058,
     "user": {
      "displayName": "Kuba Świerczyński",
      "userId": "13786110420290537325"
     },
     "user_tz": -60
    },
    "id": "eXHUYm-pf9KH",
    "outputId": "be03728c-43aa-4b9d-9dc2-ca3187901bda"
   },
   "outputs": [
    {
     "output_type": "stream",
     "name": "stdout",
     "text": [
      "\u001B[1m20/20\u001B[0m \u001B[32m━━━━━━━━━━━━━━━━━━━━\u001B[0m\u001B[37m\u001B[0m \u001B[1m265s\u001B[0m 14s/step - accuracy: 0.8348 - loss: 0.2921\n",
      "Wynik na zbiorze testowym – strata: 0.2225, dokładność: 0.8873\n"
     ]
    }
   ],
   "source": [
    "test_loss, test_acc = model.evaluate(test_generator)\n",
    "print(f\"Wynik na zbiorze testowym – strata: {test_loss:.4f}, dokładność: {test_acc:.4f}\")"
   ]
  },
  {
   "cell_type": "markdown",
   "source": [
    "#Zapisanie modelu na dysku"
   ],
   "metadata": {
    "id": "VFzaYwCstKiz"
   }
  },
  {
   "cell_type": "code",
   "execution_count": 11,
   "metadata": {
    "id": "1JjN9niqhORh",
    "executionInfo": {
     "status": "ok",
     "timestamp": 1742924391515,
     "user_tz": -60,
     "elapsed": 385,
     "user": {
      "displayName": "Kuba Świerczyński",
      "userId": "13786110420290537325"
     }
    }
   },
   "outputs": [],
   "source": [
    "model.save(\"drive/MyDrive/content/fruits_generalization_test/fruits_model_100_30_20.keras\")"
   ]
  },
  {
   "cell_type": "code",
   "source": [
    "def evaluate_model(model, test_generator):\n",
    "  pred_probs = model.predict(test_generator)\n",
    "  y_pred = np.argmax(pred_probs, axis=1)\n",
    "  y_true = test_generator.classes\n",
    "\n",
    "  cm = confusion_matrix(y_true, y_pred)\n",
    "  print(\"Confusion matrix:\\n\", cm)\n",
    "\n",
    "  class_labels = list(test_generator.class_indices.keys())\n",
    "  print(\"Classification report:\\n\", classification_report(y_true, y_pred, target_names=class_labels))\n",
    "\n",
    "  y_true_bin = label_binarize(y_true, classes=range(len(class_labels)))\n",
    "  roc_auc = roc_auc_score(y_true_bin, pred_probs, average='macro', multi_class='ovr')\n",
    "  print(f\"ROC AUC (macro-average): {roc_auc:.4f}\")\n",
    "\n",
    "  plt.figure(figsize=(10, 8))\n",
    "  sns.heatmap(cm, cmap=\"Blues\", fmt='d', cbar=False)\n",
    "  plt.title(\"Confusion Matrix\")\n",
    "  plt.xlabel(\"Predicted\")\n",
    "  plt.ylabel(\"True\")\n",
    "  plt.show()\n"
   ],
   "metadata": {
    "id": "Mgi1d4DmyVSQ",
    "executionInfo": {
     "status": "ok",
     "timestamp": 1742924393602,
     "user_tz": -60,
     "elapsed": 4,
     "user": {
      "displayName": "Kuba Świerczyński",
      "userId": "13786110420290537325"
     }
    }
   },
   "execution_count": 12,
   "outputs": []
  },
  {
   "cell_type": "code",
   "source": [
    "evaluate_model(model, test_generator)"
   ],
   "metadata": {
    "colab": {
     "base_uri": "https://localhost:8080/",
     "height": 1000
    },
    "id": "DEk0e3P20L0d",
    "executionInfo": {
     "status": "ok",
     "timestamp": 1742924399985,
     "user_tz": -60,
     "elapsed": 3760,
     "user": {
      "displayName": "Kuba Świerczyński",
      "userId": "13786110420290537325"
     }
    },
    "outputId": "751dc1c6-a2ad-4422-c26c-4631b3d076a8"
   },
   "execution_count": 13,
   "outputs": [
    {
     "output_type": "stream",
     "name": "stdout",
     "text": [
      "\u001B[1m20/20\u001B[0m \u001B[32m━━━━━━━━━━━━━━━━━━━━\u001B[0m\u001B[37m\u001B[0m \u001B[1m3s\u001B[0m 137ms/step\n",
      "Confusion matrix:\n",
      " [[134   0   0   0   0   0   0   2   1   0   0  41   0   0   0   0]\n",
      " [  4  16   0   0   0   0   0   0   0   0   0   0   0   0   0   0]\n",
      " [  0   0  20   0   0   0   0   0   0   0   0   0   0   0   0   0]\n",
      " [  0   0   0  71   0   0   0   0   0   0   0   0   0   0   0   0]\n",
      " [  0   0   0   0  40   0   0   0   0   0   0   0   0   0   0   0]\n",
      " [  0   0   0   0   0  20   0   0   0   0   0   0   0   0   0   0]\n",
      " [  7   0   0   0   0   0  13   0   0   0   0   0   0   0   0   0]\n",
      " [  0   0   0   0   0   0   0  15   5   0   0   0   0   0   0   0]\n",
      " [  0   0   0   0   0   0   0   0  20   0   0   0   0   0   0   0]\n",
      " [  1   0   0   0   0   0   0   0   0  66   0   0   0   0   0   0]\n",
      " [  0   0   0   0   0   0   0   0   0   0  20   0   0   0   0   0]\n",
      " [  0   0   0   0   0   0   0   0   0   0   0  38   0   0   0   0]\n",
      " [  0   0   0   0   0   0   0   0   0   0   0   0  20   0   0   0]\n",
      " [  0   0   0   0  10   0   0   0   0   0   0   0   0  26   0   0]\n",
      " [  0   0   0   0   0   0   0   0   0   0   0   0   0   0  20   0]\n",
      " [  0   0   0   0   0   0   0   0   0   0   0   0   0   0   0  20]]\n",
      "Classification report:\n",
      "                          precision    recall  f1-score   support\n",
      "\n",
      "                  Apple       0.92      0.75      0.83       178\n",
      "               Banana 3       1.00      0.80      0.89        20\n",
      "                Beans 1       1.00      1.00      1.00        20\n",
      "             Blackberry       1.00      1.00      1.00        71\n",
      "                Cabbage       0.80      1.00      0.89        40\n",
      "   Cactus fruit green 1       1.00      1.00      1.00        20\n",
      "     Cactus fruit red 1       1.00      0.65      0.79        20\n",
      "            Caju seed 1       0.88      0.75      0.81        20\n",
      "Cherry Wax not rippen 1       0.77      1.00      0.87        20\n",
      "               Cucumber       1.00      0.99      0.99        67\n",
      "           Gooseberry 1       1.00      1.00      1.00        20\n",
      "                   Pear       0.48      1.00      0.65        38\n",
      "            Pistachio 1       1.00      1.00      1.00        20\n",
      "               Zucchini       1.00      0.72      0.84        36\n",
      "               carrot_1       1.00      1.00      1.00        20\n",
      "        eggplant_long_1       1.00      1.00      1.00        20\n",
      "\n",
      "               accuracy                           0.89       630\n",
      "              macro avg       0.93      0.92      0.91       630\n",
      "           weighted avg       0.92      0.89      0.89       630\n",
      "\n",
      "ROC AUC (macro-average): 0.9974\n"
     ]
    },
    {
     "output_type": "display_data",
     "data": {
      "text/plain": [
       "<Figure size 1000x800 with 1 Axes>"
      ],
      "image/png": "[encoded data removed]"
     },
     "metadata": {}
    }
   ]
  }
 ],
 "metadata": {
  "colab": {
   "provenance": [],
   "gpuType": "T4",
   "toc_visible": true,
   "mount_file_id": "1q-mNcikIAURABSsY8IeZsX2p2zEg9Lxl",
   "authorship_tag": "ABX9TyPs3cZSYHY3VsxncmIafkp8"
  },
  "kernelspec": {
   "display_name": "Python 3",
   "name": "python3"
  },
  "language_info": {
   "name": "python"
  },
  "accelerator": "GPU"
 },
 "nbformat": 4,
 "nbformat_minor": 0
}
