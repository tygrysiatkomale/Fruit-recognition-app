{
 "cells": [
  {
   "cell_type": "code",
   "id": "initial_id",
   "metadata": {
    "collapsed": true,
    "ExecuteTime": {
     "end_time": "2025-04-22T07:17:24.607851Z",
     "start_time": "2025-04-22T07:17:18.689776Z"
    }
   },
   "source": [
    "import torch\n",
    "import torch.nn as nn\n",
    "import torch.optim as optim\n",
    "import os\n",
    "import re\n",
    "import shutil\n",
    "# import torchvision\n",
    "from torchvision import datasets, transforms\n",
    "from torch.utils.data import DataLoader\n",
    "\n",
    "\n",
    "# Wykrycie dostępności GPU\n",
    "device = torch.device(\"cuda\" if torch.cuda.is_available() else \"cpu\")\n",
    "print(\"Using device:\", device)"
   ],
   "outputs": [
    {
     "name": "stdout",
     "output_type": "stream",
     "text": [
      "Using device: cpu\n"
     ]
    }
   ],
   "execution_count": 1
  },
  {
   "metadata": {
    "ExecuteTime": {
     "end_time": "2025-03-28T15:45:22.253325Z",
     "start_time": "2025-03-28T15:45:22.237380Z"
    }
   },
   "cell_type": "code",
   "source": [
    "train_dir = \"fruits_generalization_test/test\"\n",
    "valid_dir = \"fruits_generalization_test/val\"\n",
    "test_dir  = \"fruits_generalization_test/test\""
   ],
   "id": "8d0daf8154a0f05e",
   "outputs": [],
   "execution_count": 2
  },
  {
   "metadata": {
    "ExecuteTime": {
     "end_time": "2025-03-28T15:45:26.464049Z",
     "start_time": "2025-03-28T15:45:26.424023Z"
    }
   },
   "cell_type": "code",
   "source": [
    "train_transforms = transforms.Compose([\n",
    "    transforms.Resize((100, 100)),\n",
    "    transforms.RandomHorizontalFlip(p=0.5),\n",
    "    transforms.RandomRotation(20),\n",
    "    transforms.ToTensor(),\n",
    "    transforms.Normalize((0.5, 0.5, 0.5),  # mean (R,G,B)\n",
    "                         (0.5, 0.5, 0.5))  # std  (R,G,B)\n",
    "])\n",
    "\n",
    "# Zbiór walidacyjny / testowy zwykle bez augmentacji, tylko normalizacja\n",
    "test_transforms = transforms.Compose([\n",
    "    transforms.Resize((100, 100)),\n",
    "    transforms.ToTensor(),\n",
    "    transforms.Normalize((0.5, 0.5, 0.5),\n",
    "                         (0.5, 0.5, 0.5))\n",
    "])"
   ],
   "id": "661613acfd3a0715",
   "outputs": [],
   "execution_count": 3
  },
  {
   "metadata": {
    "ExecuteTime": {
     "end_time": "2025-03-28T15:45:28.152414Z",
     "start_time": "2025-03-28T15:45:28.107837Z"
    }
   },
   "cell_type": "code",
   "source": [
    "# Zbiór treningowy\n",
    "train_dataset = datasets.ImageFolder(root=train_dir, transform=train_transforms)\n",
    "# Zbiór walidacyjny\n",
    "valid_dataset = datasets.ImageFolder(root=valid_dir, transform=test_transforms)\n",
    "# Zbiór testowy\n",
    "test_dataset  = datasets.ImageFolder(root=test_dir,  transform=test_transforms)"
   ],
   "id": "caeb00450fb94d79",
   "outputs": [],
   "execution_count": 4
  },
  {
   "metadata": {
    "ExecuteTime": {
     "end_time": "2025-03-28T15:45:35.375077Z",
     "start_time": "2025-03-28T15:45:35.365850Z"
    }
   },
   "cell_type": "code",
   "source": [
    "batch_size = 32\n",
    "\n",
    "train_loader = DataLoader(train_dataset, batch_size=batch_size, shuffle=True, num_workers=2)\n",
    "valid_loader = DataLoader(valid_dataset, batch_size=batch_size, shuffle=False, num_workers=2)\n",
    "test_loader  = DataLoader(test_dataset,  batch_size=batch_size, shuffle=False, num_workers=2)\n",
    "\n",
    "# Liczba klas\n",
    "num_classes = len(train_dataset.classes)\n",
    "print(\"Liczba klas:\", num_classes)\n",
    "print(\"Klasy (index -> nazwa):\", train_dataset.class_to_idx)"
   ],
   "id": "6f105424922468d2",
   "outputs": [
    {
     "name": "stdout",
     "output_type": "stream",
     "text": [
      "Liczba klas: 16\n",
      "Klasy (index -> nazwa): {'Apple': 0, 'Banana 3': 1, 'Beans 1': 2, 'Blackberry': 3, 'Cabbage': 4, 'Cactus fruit green 1': 5, 'Cactus fruit red 1': 6, 'Caju seed 1': 7, 'Cherry Wax not rippen 1': 8, 'Cucumber': 9, 'Gooseberry 1': 10, 'Pear': 11, 'Pistachio 1': 12, 'Zucchini': 13, 'carrot_1': 14, 'eggplant_long_1': 15}\n"
     ]
    }
   ],
   "execution_count": 5
  },
  {
   "metadata": {
    "ExecuteTime": {
     "end_time": "2025-03-28T15:45:38.776675Z",
     "start_time": "2025-03-28T15:45:38.734388Z"
    }
   },
   "cell_type": "code",
   "source": [
    "class SimpleCNN(nn.Module):\n",
    "    def __init__(self, num_classes):\n",
    "        super(SimpleCNN, self).__init__()\n",
    "        self.features = nn.Sequential(\n",
    "            nn.Conv2d(3, 32, kernel_size=3, padding=1),\n",
    "            nn.ReLU(),\n",
    "            nn.MaxPool2d(2, 2),  # 100 -> 50\n",
    "\n",
    "            nn.Conv2d(32, 64, kernel_size=3, padding=1),\n",
    "            nn.ReLU(),\n",
    "            nn.MaxPool2d(2, 2),  # 50 -> 25\n",
    "\n",
    "            nn.Conv2d(64, 128, kernel_size=3, padding=1),\n",
    "            nn.ReLU(),\n",
    "            nn.MaxPool2d(2, 2)   # 25 -> ~12\n",
    "        )\n",
    "        self.classifier = nn.Sequential(\n",
    "            nn.Flatten(),\n",
    "            nn.Linear(128 * 12 * 12, 256),\n",
    "            nn.ReLU(),\n",
    "            nn.Dropout(0.5),\n",
    "            nn.Linear(256, num_classes)\n",
    "        )\n",
    "\n",
    "    def forward(self, x):\n",
    "        x = self.features(x)\n",
    "        x = self.classifier(x)\n",
    "        return x\n",
    "\n",
    "model = SimpleCNN(num_classes).to(device)\n",
    "print(model)"
   ],
   "id": "ed440f6452076193",
   "outputs": [
    {
     "name": "stdout",
     "output_type": "stream",
     "text": [
      "SimpleCNN(\n",
      "  (features): Sequential(\n",
      "    (0): Conv2d(3, 32, kernel_size=(3, 3), stride=(1, 1), padding=(1, 1))\n",
      "    (1): ReLU()\n",
      "    (2): MaxPool2d(kernel_size=2, stride=2, padding=0, dilation=1, ceil_mode=False)\n",
      "    (3): Conv2d(32, 64, kernel_size=(3, 3), stride=(1, 1), padding=(1, 1))\n",
      "    (4): ReLU()\n",
      "    (5): MaxPool2d(kernel_size=2, stride=2, padding=0, dilation=1, ceil_mode=False)\n",
      "    (6): Conv2d(64, 128, kernel_size=(3, 3), stride=(1, 1), padding=(1, 1))\n",
      "    (7): ReLU()\n",
      "    (8): MaxPool2d(kernel_size=2, stride=2, padding=0, dilation=1, ceil_mode=False)\n",
      "  )\n",
      "  (classifier): Sequential(\n",
      "    (0): Flatten(start_dim=1, end_dim=-1)\n",
      "    (1): Linear(in_features=18432, out_features=256, bias=True)\n",
      "    (2): ReLU()\n",
      "    (3): Dropout(p=0.5, inplace=False)\n",
      "    (4): Linear(in_features=256, out_features=16, bias=True)\n",
      "  )\n",
      ")\n"
     ]
    }
   ],
   "execution_count": 6
  },
  {
   "metadata": {
    "ExecuteTime": {
     "end_time": "2025-03-28T15:45:40.912622Z",
     "start_time": "2025-03-28T15:45:40.903217Z"
    }
   },
   "cell_type": "code",
   "source": [
    "criterion = nn.CrossEntropyLoss()\n",
    "optimizer = optim.Adam(model.parameters(), lr=0.001)"
   ],
   "id": "babc722fd61f5a4f",
   "outputs": [],
   "execution_count": 7
  },
  {
   "metadata": {
    "ExecuteTime": {
     "end_time": "2025-03-28T15:45:46.766045Z",
     "start_time": "2025-03-28T15:45:46.746448Z"
    }
   },
   "cell_type": "code",
   "source": [
    "def train_one_epoch(model, dataloader, criterion, optimizer, device):\n",
    "    model.train()\n",
    "    running_loss = 0.0\n",
    "    correct = 0\n",
    "    total = 0\n",
    "    \n",
    "    for images, labels in dataloader:\n",
    "        images = images.to(device)\n",
    "        labels = labels.to(device)\n",
    "        \n",
    "        # Forward\n",
    "        outputs = model(images)\n",
    "        loss = criterion(outputs, labels)\n",
    "        \n",
    "        # Backward\n",
    "        optimizer.zero_grad()\n",
    "        loss.backward()\n",
    "        optimizer.step()\n",
    "        \n",
    "        # Statystyki\n",
    "        running_loss += loss.item() * images.size(0)\n",
    "        _, predicted = torch.max(outputs, 1)\n",
    "        correct += (predicted == labels).sum().item()\n",
    "        total += labels.size(0)\n",
    "    \n",
    "    epoch_loss = running_loss / total\n",
    "    epoch_acc = correct / total\n",
    "    return epoch_loss, epoch_acc\n",
    "\n",
    "def evaluate(model, dataloader, criterion, device):\n",
    "    model.eval()\n",
    "    running_loss = 0.0\n",
    "    correct = 0\n",
    "    total = 0\n",
    "    \n",
    "    with torch.no_grad():\n",
    "        for images, labels in dataloader:\n",
    "            images = images.to(device)\n",
    "            labels = labels.to(device)\n",
    "            \n",
    "            outputs = model(images)\n",
    "            loss = criterion(outputs, labels)\n",
    "            \n",
    "            running_loss += loss.item() * images.size(0)\n",
    "            _, predicted = torch.max(outputs, 1)\n",
    "            correct += (predicted == labels).sum().item()\n",
    "            total += labels.size(0)\n",
    "    \n",
    "    epoch_loss = running_loss / total\n",
    "    epoch_acc = correct / total\n",
    "    return epoch_loss, epoch_acc"
   ],
   "id": "406b0d08cbe22a18",
   "outputs": [],
   "execution_count": 9
  },
  {
   "metadata": {
    "ExecuteTime": {
     "end_time": "2025-03-28T16:02:08.412893Z",
     "start_time": "2025-03-28T15:50:55.666381Z"
    }
   },
   "cell_type": "code",
   "source": [
    "epochs = 50\n",
    "\n",
    "for epoch in range(1, epochs + 1):\n",
    "    train_loss, train_acc = train_one_epoch(model, train_loader, criterion, optimizer, device)\n",
    "    valid_loss, valid_acc = evaluate(model, valid_loader, criterion, device)\n",
    "    \n",
    "    print(f\"Epoch [{epoch}/{epochs}]\"\n",
    "          f\" | Train Loss: {train_loss:.4f} | Train Acc: {train_acc:.4f}\"\n",
    "          f\" | Val Loss: {valid_loss:.4f} | Val Acc: {valid_acc:.4f}\")"
   ],
   "id": "2cea8b8f16b13c05",
   "outputs": [
    {
     "name": "stdout",
     "output_type": "stream",
     "text": [
      "Epoch [1/50] | Train Loss: 0.1244 | Train Acc: 0.9524 | Val Loss: 0.1469 | Val Acc: 0.9797\n",
      "Epoch [2/50] | Train Loss: 0.0750 | Train Acc: 0.9730 | Val Loss: 0.0968 | Val Acc: 0.9845\n",
      "Epoch [3/50] | Train Loss: 0.1271 | Train Acc: 0.9508 | Val Loss: 0.1387 | Val Acc: 0.9797\n",
      "Epoch [4/50] | Train Loss: 0.1525 | Train Acc: 0.9444 | Val Loss: 0.2973 | Val Acc: 0.8975\n",
      "Epoch [5/50] | Train Loss: 0.1505 | Train Acc: 0.9524 | Val Loss: 0.2396 | Val Acc: 0.9428\n",
      "Epoch [6/50] | Train Loss: 0.1529 | Train Acc: 0.9444 | Val Loss: 0.1455 | Val Acc: 0.9714\n",
      "Epoch [7/50] | Train Loss: 0.0761 | Train Acc: 0.9746 | Val Loss: 0.1352 | Val Acc: 0.9762\n",
      "Epoch [8/50] | Train Loss: 0.0623 | Train Acc: 0.9778 | Val Loss: 0.1472 | Val Acc: 0.9750\n",
      "Epoch [9/50] | Train Loss: 0.0433 | Train Acc: 0.9857 | Val Loss: 0.1205 | Val Acc: 0.9833\n",
      "Epoch [10/50] | Train Loss: 0.0466 | Train Acc: 0.9857 | Val Loss: 0.1105 | Val Acc: 0.9869\n",
      "Epoch [11/50] | Train Loss: 0.0349 | Train Acc: 0.9857 | Val Loss: 0.2117 | Val Acc: 0.9666\n",
      "Epoch [12/50] | Train Loss: 0.0650 | Train Acc: 0.9762 | Val Loss: 0.1508 | Val Acc: 0.9809\n",
      "Epoch [13/50] | Train Loss: 0.0492 | Train Acc: 0.9873 | Val Loss: 0.1474 | Val Acc: 0.9809\n",
      "Epoch [14/50] | Train Loss: 0.0697 | Train Acc: 0.9778 | Val Loss: 0.1147 | Val Acc: 0.9821\n",
      "Epoch [15/50] | Train Loss: 0.0617 | Train Acc: 0.9762 | Val Loss: 0.1415 | Val Acc: 0.9821\n",
      "Epoch [16/50] | Train Loss: 0.0366 | Train Acc: 0.9889 | Val Loss: 0.1487 | Val Acc: 0.9869\n",
      "Epoch [17/50] | Train Loss: 0.0407 | Train Acc: 0.9873 | Val Loss: 0.1512 | Val Acc: 0.9857\n",
      "Epoch [18/50] | Train Loss: 0.0993 | Train Acc: 0.9667 | Val Loss: 0.1740 | Val Acc: 0.9642\n",
      "Epoch [19/50] | Train Loss: 0.1018 | Train Acc: 0.9714 | Val Loss: 0.1540 | Val Acc: 0.9785\n",
      "Epoch [20/50] | Train Loss: 0.0602 | Train Acc: 0.9841 | Val Loss: 0.1477 | Val Acc: 0.9774\n",
      "Epoch [21/50] | Train Loss: 0.0506 | Train Acc: 0.9778 | Val Loss: 0.1657 | Val Acc: 0.9797\n",
      "Epoch [22/50] | Train Loss: 0.0433 | Train Acc: 0.9889 | Val Loss: 0.1346 | Val Acc: 0.9869\n",
      "Epoch [23/50] | Train Loss: 0.0581 | Train Acc: 0.9794 | Val Loss: 0.0704 | Val Acc: 0.9881\n",
      "Epoch [24/50] | Train Loss: 0.0637 | Train Acc: 0.9778 | Val Loss: 0.0893 | Val Acc: 0.9845\n",
      "Epoch [25/50] | Train Loss: 0.0512 | Train Acc: 0.9857 | Val Loss: 0.1140 | Val Acc: 0.9785\n",
      "Epoch [26/50] | Train Loss: 0.0400 | Train Acc: 0.9873 | Val Loss: 0.1249 | Val Acc: 0.9821\n",
      "Epoch [27/50] | Train Loss: 0.0257 | Train Acc: 0.9937 | Val Loss: 0.1339 | Val Acc: 0.9833\n",
      "Epoch [28/50] | Train Loss: 0.0338 | Train Acc: 0.9905 | Val Loss: 0.1095 | Val Acc: 0.9857\n",
      "Epoch [29/50] | Train Loss: 0.0541 | Train Acc: 0.9778 | Val Loss: 0.1844 | Val Acc: 0.9762\n",
      "Epoch [30/50] | Train Loss: 0.0384 | Train Acc: 0.9873 | Val Loss: 0.1450 | Val Acc: 0.9762\n",
      "Epoch [31/50] | Train Loss: 0.0538 | Train Acc: 0.9794 | Val Loss: 0.1176 | Val Acc: 0.9762\n",
      "Epoch [32/50] | Train Loss: 0.0759 | Train Acc: 0.9746 | Val Loss: 0.1548 | Val Acc: 0.9654\n",
      "Epoch [33/50] | Train Loss: 0.1119 | Train Acc: 0.9635 | Val Loss: 0.1329 | Val Acc: 0.9738\n",
      "Epoch [34/50] | Train Loss: 0.0613 | Train Acc: 0.9762 | Val Loss: 0.1511 | Val Acc: 0.9809\n",
      "Epoch [35/50] | Train Loss: 0.0399 | Train Acc: 0.9841 | Val Loss: 0.1156 | Val Acc: 0.9833\n",
      "Epoch [36/50] | Train Loss: 0.0224 | Train Acc: 0.9937 | Val Loss: 0.1160 | Val Acc: 0.9809\n",
      "Epoch [37/50] | Train Loss: 0.0261 | Train Acc: 0.9937 | Val Loss: 0.1240 | Val Acc: 0.9857\n",
      "Epoch [38/50] | Train Loss: 0.0145 | Train Acc: 0.9968 | Val Loss: 0.1385 | Val Acc: 0.9833\n",
      "Epoch [39/50] | Train Loss: 0.0637 | Train Acc: 0.9778 | Val Loss: 0.1477 | Val Acc: 0.9833\n",
      "Epoch [40/50] | Train Loss: 0.0384 | Train Acc: 0.9841 | Val Loss: 0.1181 | Val Acc: 0.9869\n",
      "Epoch [41/50] | Train Loss: 0.0234 | Train Acc: 0.9889 | Val Loss: 0.1011 | Val Acc: 0.9869\n",
      "Epoch [42/50] | Train Loss: 0.0096 | Train Acc: 0.9937 | Val Loss: 0.1106 | Val Acc: 0.9845\n",
      "Epoch [43/50] | Train Loss: 0.0280 | Train Acc: 0.9905 | Val Loss: 0.1250 | Val Acc: 0.9857\n",
      "Epoch [44/50] | Train Loss: 0.0205 | Train Acc: 0.9921 | Val Loss: 0.1105 | Val Acc: 0.9845\n",
      "Epoch [45/50] | Train Loss: 0.0316 | Train Acc: 0.9905 | Val Loss: 0.1996 | Val Acc: 0.9678\n",
      "Epoch [46/50] | Train Loss: 0.0609 | Train Acc: 0.9794 | Val Loss: 0.1267 | Val Acc: 0.9809\n",
      "Epoch [47/50] | Train Loss: 0.0893 | Train Acc: 0.9730 | Val Loss: 0.1431 | Val Acc: 0.9738\n",
      "Epoch [48/50] | Train Loss: 0.0646 | Train Acc: 0.9778 | Val Loss: 0.1196 | Val Acc: 0.9833\n",
      "Epoch [49/50] | Train Loss: 0.0450 | Train Acc: 0.9889 | Val Loss: 0.1841 | Val Acc: 0.9714\n",
      "Epoch [50/50] | Train Loss: 0.0539 | Train Acc: 0.9841 | Val Loss: 0.1821 | Val Acc: 0.9869\n"
     ]
    }
   ],
   "execution_count": 12
  },
  {
   "metadata": {
    "ExecuteTime": {
     "end_time": "2025-03-28T16:06:29.412394Z",
     "start_time": "2025-03-28T16:06:23.461464Z"
    }
   },
   "cell_type": "code",
   "source": [
    "test_loss, test_acc = evaluate(model, test_loader, criterion, device)\n",
    "print(f\"Test Loss: {test_loss:.4f}, Test Acc: {test_acc:.4f}\")"
   ],
   "id": "e86e213444d3dd36",
   "outputs": [
    {
     "name": "stdout",
     "output_type": "stream",
     "text": [
      "Test Loss: 0.0038, Test Acc: 1.0000\n"
     ]
    }
   ],
   "execution_count": 13
  },
  {
   "metadata": {},
   "cell_type": "code",
   "outputs": [],
   "execution_count": null,
   "source": [
    "torch.save(model.state_dict(), \"fruits_cnn.pth\")\n",
    "\n",
    "# wczytanie (w nowej sesji lub innym skrypcie)\n",
    "model = SimpleCNN(num_classes)\n",
    "model.load_state_dict(torch.load(\"fruits_cnn.pth\", map_location=device))\n",
    "model.to(device)\n",
    "model.eval()"
   ],
   "id": "c6d1d904db1830fc"
  },
  {
   "metadata": {
    "ExecuteTime": {
     "end_time": "2025-03-29T19:46:07.296619Z",
     "start_time": "2025-03-29T19:46:07.289320Z"
    }
   },
   "cell_type": "code",
   "source": [
    "merge_map = {\n",
    "    r'^Apple': 'Apple',\n",
    "    r'^Apricot': 'Apricot',\n",
    "    r'^Avocado': 'Avocado',\n",
    "    r'^Banana': 'Banana',\n",
    "    r'^Blackberrie': 'Blackberry',\n",
    "    r'^Blueberry': 'Blueberry',\n",
    "    r'^Cabbage': 'Cabbage',\n",
    "    r'^Cactus': 'Cactus',\n",
    "    r'^Cantaloupe': 'Cantaloupe',\n",
    "    r'^Carambula': 'Carambula',\n",
    "    r'^Carrot': 'Carrot',\n",
    "    r'^Cauliflower': 'Cauliflower',\n",
    "    r'^Cherry': 'Cherry',\n",
    "    r'^Chestnut': 'Chestnut',\n",
    "    r'^Clementine': 'Clementine',\n",
    "    r'^Cocos': 'Cocos',\n",
    "    r'^Corn Husk': 'Corn Husk',\n",
    "    r'^Corn': 'Corn',\n",
    "    r'^Cucumber': 'Cucumber',\n",
    "    r'^Dates': 'Dates',\n",
    "    r'^Eggplant': 'Eggplant',\n",
    "    r'^Ginger Root': 'Ginger Root',\n",
    "    r'^Gooseberry': 'Gooseberry',\n",
    "    r'^Granadilla': 'Granadilla',\n",
    "    r'^Grape Blue': 'Grape Blue',\n",
    "    r'^Grape White': 'Grape White',\n",
    "    r'^Grapefruit Pink': 'Grapefruit Pink',\n",
    "    r'^Grapefruit White': 'Grapefruit White',\n",
    "    r'^Guava': 'Guava',\n",
    "    r'^Hazelnut': 'Hazelnut',\n",
    "    r'^Kaki': 'Kaki',\n",
    "    r'^Kiwi': 'Kiwi',\n",
    "    r'^Kohlrabi': 'Kohlrabi',\n",
    "    r'^Kumquats': 'Kumquats',\n",
    "    r'^Lemon Meyer': 'Lemon Meyer',\n",
    "    r'^Mandarine': 'Mandarine',\n",
    "    r'^Mango Red': 'Mango Red',\n",
    "    r'^Mangostan': 'Mangostan',\n",
    "    r'^Nectarine Flat': 'Nectarine Flat',\n",
    "    r'^Nut Forest': 'Nut Forest',\n",
    "    r'^Nut Pecan': 'Nut Pecan',\n",
    "    r'^Onion Red': 'Onion Red',\n",
    "    r'^Orange': 'Orange',\n",
    "    r'^Papaya': 'Papaya',\n",
    "    r'^Passion Fruit': 'Passion Fruit',\n",
    "    r'^Peach Flat': 'Peach Flat',\n",
    "    r'^Peach': 'Peach',\n",
    "    r'^Pear': 'Pear',\n",
    "    r'^Pepino': 'Pepino',\n",
    "    r'^Pepper Green': 'Pepper Green',\n",
    "    r'^Pepper Red': 'Pepper Red',\n",
    "    r'^Pepper Yellow': 'Pepper Yellow',\n",
    "    r'^Physalis with Husk': 'Physalis',\n",
    "    r'^Physalis': 'Physalis',\n",
    "    r'^Pistachio': 'Pistachio',\n",
    "    r'^Plum': 'Plum',\n",
    "    r'^Pomelo Sweetie': 'Pomelo Sweetie',\n",
    "    r'^Potato Red Washed': 'Potato Red',\n",
    "    r'^Potato Red': 'Potato Red',\n",
    "    r'^Potato White': 'Potato White',\n",
    "    r'^Quince': 'Quince',\n",
    "    r'^Rambutan': 'Rambutan',\n",
    "    r'^Redcurrant': 'Redcurrant',\n",
    "    r'^Salak': 'Salak',\n",
    "    r'^Strawberry Wedge': 'Strawberry',\n",
    "    r'^Tangelo': 'Tangelo',\n",
    "    r'^Tomato Heart': 'Tomato',\n",
    "    r'^Tomato not Ripened': 'Tomato',\n",
    "    r'^Tomato': 'Tomato',\n",
    "    r'^Watermelon': 'Watermelon',\n",
    "    r'^Beans': 'Beans',\n",
    "    r'^Fig': 'Fig',\n",
    "    r'^Durian': 'Durian'\n",
    "}"
   ],
   "id": "950f2980c56c4ea5",
   "outputs": [],
   "execution_count": 17
  },
  {
   "metadata": {
    "ExecuteTime": {
     "end_time": "2025-03-29T19:48:24.192182Z",
     "start_time": "2025-03-29T19:46:13.112381Z"
    }
   },
   "cell_type": "code",
   "source": [
    "def map_class(folder_name):\n",
    "    for pattern, general_name in merge_map.items():\n",
    "        if re.match(pattern, folder_name):\n",
    "            return general_name\n",
    "    return folder_name\n",
    "\n",
    "source_dirs = {\n",
    "    'train': 'fruits-360_100x100/fruits-360/Training',\n",
    "    # 'val': 'drive/MyDrive/content/fruits-360_original_100_30_20_test/test_val',\n",
    "    'test': 'fruits-360_100x100/fruits-360/Test'\n",
    "}\n",
    "\n",
    "target_root = '100x100_dataset'\n",
    "\n",
    "# for split, source_dir in source_dirs.items():\n",
    "#     for class_folder in os.listdir(source_dir):\n",
    "#         class_path = os.path.join(source_dir, class_folder)\n",
    "#         if not os.path.isdir(class_path):\n",
    "#             continue\n",
    "#         new_class = map_class(class_folder)\n",
    "#         target_class_dir = os.path.join(target_root, split, new_class)\n",
    "#         os.makedirs(target_class_dir, exist_ok=True)\n",
    "# \n",
    "#         for img_file in os.listdir(class_path):\n",
    "#             src = os.path.join(class_path, img_file)\n",
    "#             dst = os.path.join(target_class_dir, img_file)\n",
    "#             shutil.copy2(src, dst)\n",
    "\n",
    "print(\"✅ Gotowe! Nowy zbiór utworzony w:\", target_root)"
   ],
   "id": "cc87ac8a718bce6e",
   "outputs": [
    {
     "name": "stdout",
     "output_type": "stream",
     "text": [
      "✅ Gotowe! Nowy zbiór utworzony w: 100x100_dataset\n"
     ]
    }
   ],
   "execution_count": 18
  },
  {
   "metadata": {
    "ExecuteTime": {
     "end_time": "2025-03-29T20:33:03.273424Z",
     "start_time": "2025-03-29T20:33:03.264310Z"
    }
   },
   "cell_type": "code",
   "source": "",
   "id": "2a5d2df5a09ea158",
   "outputs": [],
   "execution_count": 27
  }
 ],
 "metadata": {
  "kernelspec": {
   "display_name": "Python 3",
   "language": "python",
   "name": "python3"
  },
  "language_info": {
   "codemirror_mode": {
    "name": "ipython",
    "version": 2
   },
   "file_extension": ".py",
   "mimetype": "text/x-python",
   "name": "python",
   "nbconvert_exporter": "python",
   "pygments_lexer": "ipython2",
   "version": "2.7.6"
  }
 },
 "nbformat": 4,
 "nbformat_minor": 5
}
